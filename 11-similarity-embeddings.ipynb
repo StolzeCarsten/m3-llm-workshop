{
 "cells": [
  {
   "cell_type": "markdown",
   "id": "b64ece1d-7558-4fb6-a98b-ad06283bb898",
   "metadata": {},
   "source": [
    "# Load data"
   ]
  },
  {
   "cell_type": "code",
   "execution_count": null,
   "id": "1c08c809-10c6-42aa-9a01-0477ca426b2f",
   "metadata": {},
   "outputs": [],
   "source": [
    "import glob\n",
    "import os"
   ]
  },
  {
   "cell_type": "code",
   "execution_count": null,
   "id": "ef5ecf2e-a314-450a-917b-c4b524aff977",
   "metadata": {},
   "outputs": [],
   "source": [
    "data = []\n",
    "for n in glob.glob(\"un/TXT/Session 77 - 2022/*.txt\"):\n",
    "    data.append({\"country\": os.path.basename(n.replace(\"_77_2022.txt\", \"\")), \"text\": open(n).read() })"
   ]
  },
  {
   "cell_type": "code",
   "execution_count": null,
   "id": "0112212d-2b8e-4b38-b2c2-333799200b21",
   "metadata": {},
   "outputs": [],
   "source": [
    "import pandas as pd"
   ]
  },
  {
   "cell_type": "code",
   "execution_count": null,
   "id": "532c4a6c-52d3-4436-9e45-b1e4f870baec",
   "metadata": {},
   "outputs": [],
   "source": [
    "pd.set_option('display.max_colwidth', 500)\n",
    "df = pd.DataFrame(data)\n",
    "df"
   ]
  },
  {
   "cell_type": "markdown",
   "id": "09eb4820-19d9-4dbf-9690-d62a2df94c59",
   "metadata": {},
   "source": [
    "# Sentence segmentation"
   ]
  },
  {
   "cell_type": "code",
   "execution_count": null,
   "id": "33e32ba2-bd5e-40cc-bf91-4fe46de6a0ba",
   "metadata": {},
   "outputs": [],
   "source": [
    "import spacy"
   ]
  },
  {
   "cell_type": "code",
   "execution_count": null,
   "id": "3232940b-b7f3-45d1-9933-e86b5a4eff56",
   "metadata": {},
   "outputs": [],
   "source": [
    "!python -m spacy download en_core_web_sm"
   ]
  },
  {
   "cell_type": "code",
   "execution_count": null,
   "id": "5891c67e-f9bd-496c-b4aa-a4d904cbe3d7",
   "metadata": {},
   "outputs": [],
   "source": [
    "nlp = spacy.load(\"en_core_web_sm\")"
   ]
  },
  {
   "cell_type": "code",
   "execution_count": null,
   "id": "73cb5d77-1257-4e77-9ff7-638614016a62",
   "metadata": {},
   "outputs": [],
   "source": [
    "from tqdm.auto import tqdm"
   ]
  },
  {
   "cell_type": "code",
   "execution_count": null,
   "id": "202f62ea-b081-4e3d-9719-5d934b566649",
   "metadata": {},
   "outputs": [],
   "source": [
    "# runs 30 seconds or so\n",
    "sentences = []\n",
    "for text in tqdm(df[\"text\"]):\n",
    "    doc = nlp(text)\n",
    "    for sentence in doc.sents:\n",
    "        sentences.append(str(sentence).strip())"
   ]
  },
  {
   "cell_type": "code",
   "execution_count": null,
   "id": "8d67a487-962e-4e91-ad7b-2aa87309c647",
   "metadata": {},
   "outputs": [],
   "source": [
    "sentences"
   ]
  },
  {
   "cell_type": "code",
   "execution_count": null,
   "id": "d348e426-7359-41c3-a06b-8919d0587d56",
   "metadata": {},
   "outputs": [],
   "source": [
    "len(sentences)"
   ]
  },
  {
   "cell_type": "code",
   "execution_count": null,
   "id": "2aefb111-d258-4247-ae4b-6507e8583854",
   "metadata": {},
   "outputs": [],
   "source": [
    "open(\"sentences.txt\", \"w\").write(\"@@@\".join(sentences))"
   ]
  },
  {
   "cell_type": "markdown",
   "id": "447ac753-3f5d-4eed-a51b-581c37856041",
   "metadata": {},
   "source": [
    "# Encode sentences"
   ]
  },
  {
   "cell_type": "code",
   "execution_count": null,
   "id": "960c8379-bb43-43a1-ab84-d1efed83cd32",
   "metadata": {},
   "outputs": [],
   "source": [
    "!pip install sentence_transformers"
   ]
  },
  {
   "cell_type": "code",
   "execution_count": null,
   "id": "9ca1b2b1-9072-4b60-b8c4-4130b8f8d6dd",
   "metadata": {},
   "outputs": [],
   "source": [
    "from sentence_transformers import SentenceTransformer\n",
    "model = SentenceTransformer('multi-qa-MiniLM-L6-cos-v1')"
   ]
  },
  {
   "cell_type": "code",
   "execution_count": null,
   "id": "b259f42b-9c45-4fee-b319-afcb37625ec4",
   "metadata": {},
   "outputs": [],
   "source": [
    "# can take a minute or two depending on CPU/GPU configuration\n",
    "sembeddings = model.encode(sentences, show_progress_bar=True)"
   ]
  },
  {
   "cell_type": "code",
   "execution_count": null,
   "id": "d6fb009d-7d0a-4332-a29d-68aea47e2f37",
   "metadata": {},
   "outputs": [],
   "source": [
    "import numpy as np\n",
    "with open(\"sentences.npy\", \"wb\") as f:\n",
    "    np.save(f, sembeddings)"
   ]
  },
  {
   "cell_type": "code",
   "execution_count": null,
   "id": "53b8bfec-5b4b-44a1-a6ff-a7029d234c62",
   "metadata": {},
   "outputs": [],
   "source": [
    "sembeddings.shape"
   ]
  },
  {
   "cell_type": "code",
   "execution_count": null,
   "id": "6b01c518-5b16-4075-a3f6-c3f9851ec204",
   "metadata": {},
   "outputs": [],
   "source": [
    "model2 = SentenceTransformer('multi-qa-mpnet-base-dot-v1')"
   ]
  },
  {
   "cell_type": "code",
   "execution_count": null,
   "id": "c2689c2f-9338-4b86-b776-72f78aae0cfc",
   "metadata": {},
   "outputs": [],
   "source": [
    "sembeddings2 = model2.encode(sentences, show_progress_bar=True)"
   ]
  },
  {
   "cell_type": "code",
   "execution_count": null,
   "id": "1ad4dced-d058-464e-a634-d70c16cf153e",
   "metadata": {},
   "outputs": [],
   "source": [
    "with open(\"sentences2.npy\", \"wb\") as f:\n",
    "    np.save(f, sembeddings2)"
   ]
  },
  {
   "cell_type": "markdown",
   "id": "4dddad02-fea3-40a0-b9b2-eb4ad04f910b",
   "metadata": {},
   "source": [
    "# Retrieval"
   ]
  },
  {
   "cell_type": "code",
   "execution_count": null,
   "id": "416ac725-97c8-4709-aad3-f36cac16a0c7",
   "metadata": {},
   "outputs": [],
   "source": [
    "def search(query, text, corpus_embeddings, model, top=20):\n",
    "    # code query to restrict search space\n",
    "    question_embedding = model.encode(query)\n",
    "    \n",
    "    # Determine similarity (vectors are normalized)\n",
    "    sim = np.dot(corpus_embeddings, question_embedding)\n",
    "    \n",
    "    # Get most similar top by sorting\n",
    "    hits = [ { \"text\": text[i], \"score\": sim[i] } \n",
    "                     for i in sim.argsort()[::-1][0:top] ]\n",
    "    \n",
    "    # Return as dataframe\n",
    "    return pd.DataFrame(hits)"
   ]
  },
  {
   "cell_type": "code",
   "execution_count": null,
   "id": "7b3a0f3f-6a10-406e-938c-ff7573787206",
   "metadata": {},
   "outputs": [],
   "source": [
    "pd.set_option('display.max_colwidth', 0)"
   ]
  },
  {
   "cell_type": "code",
   "execution_count": null,
   "id": "ed14fc30-5640-4891-8ae1-defa57bf21a6",
   "metadata": {},
   "outputs": [],
   "source": [
    "search(\"The climate crisis is worse in poorer countries\", sentences, sembeddings, model)"
   ]
  },
  {
   "cell_type": "code",
   "execution_count": null,
   "id": "be5966b4-4df5-46fa-b268-2539e86fb03a",
   "metadata": {},
   "outputs": [],
   "source": [
    "search(\"The climate crisis is worse in poorer countries\", sentences, sembeddings2, model2)"
   ]
  },
  {
   "cell_type": "code",
   "execution_count": null,
   "id": "8a32f367-fe1f-4528-867f-147b4dc8c92c",
   "metadata": {},
   "outputs": [],
   "source": [
    "search(\"Die Klimakrise betrifft vor allem ärmere Länder\", sentences, sembeddings2, model2)"
   ]
  },
  {
   "cell_type": "code",
   "execution_count": null,
   "id": "a28cfbcc-6e7f-4e6f-983d-2505bf7841f8",
   "metadata": {},
   "outputs": [],
   "source": []
  }
 ],
 "metadata": {
  "kernelspec": {
   "display_name": "Python 3 (ipykernel)",
   "language": "python",
   "name": "python3"
  },
  "language_info": {
   "codemirror_mode": {
    "name": "ipython",
    "version": 3
   },
   "file_extension": ".py",
   "mimetype": "text/x-python",
   "name": "python",
   "nbconvert_exporter": "python",
   "pygments_lexer": "ipython3",
   "version": "3.8.10"
  }
 },
 "nbformat": 4,
 "nbformat_minor": 5
}
